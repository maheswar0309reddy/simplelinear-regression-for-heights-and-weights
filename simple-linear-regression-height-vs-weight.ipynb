{
 "cells": [
  {
   "cell_type": "code",
   "execution_count": 1,
   "id": "ece3115c",
   "metadata": {
    "execution": {
     "iopub.execute_input": "2021-10-09T11:45:18.643255Z",
     "iopub.status.busy": "2021-10-09T11:45:18.633988Z",
     "iopub.status.idle": "2021-10-09T11:45:18.647758Z",
     "shell.execute_reply": "2021-10-09T11:45:18.647004Z",
     "shell.execute_reply.started": "2021-10-09T11:33:29.306333Z"
    },
    "papermill": {
     "duration": 0.043016,
     "end_time": "2021-10-09T11:45:18.647971",
     "exception": false,
     "start_time": "2021-10-09T11:45:18.604955",
     "status": "completed"
    },
    "tags": []
   },
   "outputs": [],
   "source": [
    "import pandas as pd \n",
    "import numpy as np"
   ]
  },
  {
   "cell_type": "code",
   "execution_count": 2,
   "id": "5f8d83de",
   "metadata": {
    "execution": {
     "iopub.execute_input": "2021-10-09T11:45:18.700877Z",
     "iopub.status.busy": "2021-10-09T11:45:18.700162Z",
     "iopub.status.idle": "2021-10-09T11:45:18.726551Z",
     "shell.execute_reply": "2021-10-09T11:45:18.725937Z",
     "shell.execute_reply.started": "2021-10-09T11:33:32.153956Z"
    },
    "papermill": {
     "duration": 0.054723,
     "end_time": "2021-10-09T11:45:18.726744",
     "exception": false,
     "start_time": "2021-10-09T11:45:18.672021",
     "status": "completed"
    },
    "tags": []
   },
   "outputs": [],
   "source": [
    "ds = pd.read_csv(\"../input/heights-and-weights/data.csv\")"
   ]
  },
  {
   "cell_type": "code",
   "execution_count": 3,
   "id": "af4fe68e",
   "metadata": {
    "execution": {
     "iopub.execute_input": "2021-10-09T11:45:18.794557Z",
     "iopub.status.busy": "2021-10-09T11:45:18.793892Z",
     "iopub.status.idle": "2021-10-09T11:45:18.808702Z",
     "shell.execute_reply": "2021-10-09T11:45:18.808172Z",
     "shell.execute_reply.started": "2021-10-09T11:33:47.475142Z"
    },
    "papermill": {
     "duration": 0.053257,
     "end_time": "2021-10-09T11:45:18.808865",
     "exception": false,
     "start_time": "2021-10-09T11:45:18.755608",
     "status": "completed"
    },
    "tags": []
   },
   "outputs": [
    {
     "data": {
      "text/html": [
       "<div>\n",
       "<style scoped>\n",
       "    .dataframe tbody tr th:only-of-type {\n",
       "        vertical-align: middle;\n",
       "    }\n",
       "\n",
       "    .dataframe tbody tr th {\n",
       "        vertical-align: top;\n",
       "    }\n",
       "\n",
       "    .dataframe thead th {\n",
       "        text-align: right;\n",
       "    }\n",
       "</style>\n",
       "<table border=\"1\" class=\"dataframe\">\n",
       "  <thead>\n",
       "    <tr style=\"text-align: right;\">\n",
       "      <th></th>\n",
       "      <th>Height</th>\n",
       "      <th>Weight</th>\n",
       "    </tr>\n",
       "  </thead>\n",
       "  <tbody>\n",
       "    <tr>\n",
       "      <th>0</th>\n",
       "      <td>1.47</td>\n",
       "      <td>52.21</td>\n",
       "    </tr>\n",
       "    <tr>\n",
       "      <th>1</th>\n",
       "      <td>1.50</td>\n",
       "      <td>53.12</td>\n",
       "    </tr>\n",
       "    <tr>\n",
       "      <th>2</th>\n",
       "      <td>1.52</td>\n",
       "      <td>54.48</td>\n",
       "    </tr>\n",
       "    <tr>\n",
       "      <th>3</th>\n",
       "      <td>1.55</td>\n",
       "      <td>55.84</td>\n",
       "    </tr>\n",
       "    <tr>\n",
       "      <th>4</th>\n",
       "      <td>1.57</td>\n",
       "      <td>57.20</td>\n",
       "    </tr>\n",
       "  </tbody>\n",
       "</table>\n",
       "</div>"
      ],
      "text/plain": [
       "   Height  Weight\n",
       "0    1.47   52.21\n",
       "1    1.50   53.12\n",
       "2    1.52   54.48\n",
       "3    1.55   55.84\n",
       "4    1.57   57.20"
      ]
     },
     "execution_count": 3,
     "metadata": {},
     "output_type": "execute_result"
    }
   ],
   "source": [
    "ds.head()"
   ]
  },
  {
   "cell_type": "code",
   "execution_count": 4,
   "id": "a6f2f527",
   "metadata": {
    "execution": {
     "iopub.execute_input": "2021-10-09T11:45:18.879218Z",
     "iopub.status.busy": "2021-10-09T11:45:18.878481Z",
     "iopub.status.idle": "2021-10-09T11:45:18.882075Z",
     "shell.execute_reply": "2021-10-09T11:45:18.881412Z",
     "shell.execute_reply.started": "2021-10-09T11:33:48.774465Z"
    },
    "papermill": {
     "duration": 0.048872,
     "end_time": "2021-10-09T11:45:18.882222",
     "exception": false,
     "start_time": "2021-10-09T11:45:18.833350",
     "status": "completed"
    },
    "tags": []
   },
   "outputs": [
    {
     "name": "stdout",
     "output_type": "stream",
     "text": [
      "<class 'pandas.core.frame.DataFrame'>\n",
      "RangeIndex: 15 entries, 0 to 14\n",
      "Data columns (total 2 columns):\n",
      " #   Column  Non-Null Count  Dtype  \n",
      "---  ------  --------------  -----  \n",
      " 0   Height  15 non-null     float64\n",
      " 1   Weight  15 non-null     float64\n",
      "dtypes: float64(2)\n",
      "memory usage: 368.0 bytes\n"
     ]
    }
   ],
   "source": [
    "ds.info()"
   ]
  },
  {
   "cell_type": "code",
   "execution_count": 5,
   "id": "1f193671",
   "metadata": {
    "execution": {
     "iopub.execute_input": "2021-10-09T11:45:18.939693Z",
     "iopub.status.busy": "2021-10-09T11:45:18.938783Z",
     "iopub.status.idle": "2021-10-09T11:45:18.942995Z",
     "shell.execute_reply": "2021-10-09T11:45:18.942405Z",
     "shell.execute_reply.started": "2021-10-09T11:33:49.634546Z"
    },
    "papermill": {
     "duration": 0.03625,
     "end_time": "2021-10-09T11:45:18.943164",
     "exception": false,
     "start_time": "2021-10-09T11:45:18.906914",
     "status": "completed"
    },
    "tags": []
   },
   "outputs": [
    {
     "data": {
      "text/plain": [
       "Index(['Height', 'Weight'], dtype='object')"
      ]
     },
     "execution_count": 5,
     "metadata": {},
     "output_type": "execute_result"
    }
   ],
   "source": [
    "ds.columns"
   ]
  },
  {
   "cell_type": "code",
   "execution_count": 6,
   "id": "dd300720",
   "metadata": {
    "execution": {
     "iopub.execute_input": "2021-10-09T11:45:19.005914Z",
     "iopub.status.busy": "2021-10-09T11:45:19.004951Z",
     "iopub.status.idle": "2021-10-09T11:45:19.009433Z",
     "shell.execute_reply": "2021-10-09T11:45:19.008851Z",
     "shell.execute_reply.started": "2021-10-09T11:33:49.989507Z"
    },
    "papermill": {
     "duration": 0.041476,
     "end_time": "2021-10-09T11:45:19.009577",
     "exception": false,
     "start_time": "2021-10-09T11:45:18.968101",
     "status": "completed"
    },
    "tags": []
   },
   "outputs": [
    {
     "data": {
      "text/html": [
       "<div>\n",
       "<style scoped>\n",
       "    .dataframe tbody tr th:only-of-type {\n",
       "        vertical-align: middle;\n",
       "    }\n",
       "\n",
       "    .dataframe tbody tr th {\n",
       "        vertical-align: top;\n",
       "    }\n",
       "\n",
       "    .dataframe thead th {\n",
       "        text-align: right;\n",
       "    }\n",
       "</style>\n",
       "<table border=\"1\" class=\"dataframe\">\n",
       "  <thead>\n",
       "    <tr style=\"text-align: right;\">\n",
       "      <th></th>\n",
       "      <th>Height</th>\n",
       "      <th>Weight</th>\n",
       "    </tr>\n",
       "  </thead>\n",
       "  <tbody>\n",
       "    <tr>\n",
       "      <th>Height</th>\n",
       "      <td>1.000000</td>\n",
       "      <td>0.994584</td>\n",
       "    </tr>\n",
       "    <tr>\n",
       "      <th>Weight</th>\n",
       "      <td>0.994584</td>\n",
       "      <td>1.000000</td>\n",
       "    </tr>\n",
       "  </tbody>\n",
       "</table>\n",
       "</div>"
      ],
      "text/plain": [
       "          Height    Weight\n",
       "Height  1.000000  0.994584\n",
       "Weight  0.994584  1.000000"
      ]
     },
     "execution_count": 6,
     "metadata": {},
     "output_type": "execute_result"
    }
   ],
   "source": [
    "ds.corr()"
   ]
  },
  {
   "cell_type": "code",
   "execution_count": 7,
   "id": "99a47064",
   "metadata": {
    "execution": {
     "iopub.execute_input": "2021-10-09T11:45:19.066276Z",
     "iopub.status.busy": "2021-10-09T11:45:19.065289Z",
     "iopub.status.idle": "2021-10-09T11:45:19.068282Z",
     "shell.execute_reply": "2021-10-09T11:45:19.067638Z",
     "shell.execute_reply.started": "2021-10-09T11:33:51.269048Z"
    },
    "papermill": {
     "duration": 0.033607,
     "end_time": "2021-10-09T11:45:19.068448",
     "exception": false,
     "start_time": "2021-10-09T11:45:19.034841",
     "status": "completed"
    },
    "tags": []
   },
   "outputs": [],
   "source": [
    "X = ds['Height']"
   ]
  },
  {
   "cell_type": "code",
   "execution_count": 8,
   "id": "54b6e8a5",
   "metadata": {
    "execution": {
     "iopub.execute_input": "2021-10-09T11:45:19.124919Z",
     "iopub.status.busy": "2021-10-09T11:45:19.123980Z",
     "iopub.status.idle": "2021-10-09T11:45:19.127844Z",
     "shell.execute_reply": "2021-10-09T11:45:19.127301Z",
     "shell.execute_reply.started": "2021-10-09T11:33:52.223992Z"
    },
    "papermill": {
     "duration": 0.034383,
     "end_time": "2021-10-09T11:45:19.127983",
     "exception": false,
     "start_time": "2021-10-09T11:45:19.093600",
     "status": "completed"
    },
    "tags": []
   },
   "outputs": [
    {
     "data": {
      "text/plain": [
       "pandas.core.series.Series"
      ]
     },
     "execution_count": 8,
     "metadata": {},
     "output_type": "execute_result"
    }
   ],
   "source": [
    "type(X)"
   ]
  },
  {
   "cell_type": "code",
   "execution_count": 9,
   "id": "d6cc5da3",
   "metadata": {
    "execution": {
     "iopub.execute_input": "2021-10-09T11:45:19.193274Z",
     "iopub.status.busy": "2021-10-09T11:45:19.192578Z",
     "iopub.status.idle": "2021-10-09T11:45:19.197195Z",
     "shell.execute_reply": "2021-10-09T11:45:19.196502Z",
     "shell.execute_reply.started": "2021-10-09T11:33:55.009472Z"
    },
    "papermill": {
     "duration": 0.041305,
     "end_time": "2021-10-09T11:45:19.197346",
     "exception": false,
     "start_time": "2021-10-09T11:45:19.156041",
     "status": "completed"
    },
    "tags": []
   },
   "outputs": [],
   "source": [
    "X = X.values  # convert into numpy array"
   ]
  },
  {
   "cell_type": "code",
   "execution_count": 10,
   "id": "5220ca3a",
   "metadata": {
    "execution": {
     "iopub.execute_input": "2021-10-09T11:45:19.255833Z",
     "iopub.status.busy": "2021-10-09T11:45:19.255046Z",
     "iopub.status.idle": "2021-10-09T11:45:19.258192Z",
     "shell.execute_reply": "2021-10-09T11:45:19.258663Z",
     "shell.execute_reply.started": "2021-10-09T11:33:58.229547Z"
    },
    "papermill": {
     "duration": 0.036168,
     "end_time": "2021-10-09T11:45:19.258901",
     "exception": false,
     "start_time": "2021-10-09T11:45:19.222733",
     "status": "completed"
    },
    "tags": []
   },
   "outputs": [
    {
     "data": {
      "text/plain": [
       "numpy.ndarray"
      ]
     },
     "execution_count": 10,
     "metadata": {},
     "output_type": "execute_result"
    }
   ],
   "source": [
    "type(X)"
   ]
  },
  {
   "cell_type": "code",
   "execution_count": 11,
   "id": "86f1b780",
   "metadata": {
    "execution": {
     "iopub.execute_input": "2021-10-09T11:45:19.315266Z",
     "iopub.status.busy": "2021-10-09T11:45:19.314429Z",
     "iopub.status.idle": "2021-10-09T11:45:19.318273Z",
     "shell.execute_reply": "2021-10-09T11:45:19.317734Z",
     "shell.execute_reply.started": "2021-10-09T11:34:10.015301Z"
    },
    "papermill": {
     "duration": 0.034211,
     "end_time": "2021-10-09T11:45:19.318412",
     "exception": false,
     "start_time": "2021-10-09T11:45:19.284201",
     "status": "completed"
    },
    "tags": []
   },
   "outputs": [
    {
     "data": {
      "text/plain": [
       "(15,)"
      ]
     },
     "execution_count": 11,
     "metadata": {},
     "output_type": "execute_result"
    }
   ],
   "source": [
    "X.shape"
   ]
  },
  {
   "cell_type": "code",
   "execution_count": 12,
   "id": "59990735",
   "metadata": {
    "execution": {
     "iopub.execute_input": "2021-10-09T11:45:19.374626Z",
     "iopub.status.busy": "2021-10-09T11:45:19.373985Z",
     "iopub.status.idle": "2021-10-09T11:45:19.376517Z",
     "shell.execute_reply": "2021-10-09T11:45:19.375992Z",
     "shell.execute_reply.started": "2021-10-09T11:34:30.364961Z"
    },
    "papermill": {
     "duration": 0.032458,
     "end_time": "2021-10-09T11:45:19.376656",
     "exception": false,
     "start_time": "2021-10-09T11:45:19.344198",
     "status": "completed"
    },
    "tags": []
   },
   "outputs": [],
   "source": [
    "X = X.reshape(-1,1)        # convert into 2D"
   ]
  },
  {
   "cell_type": "code",
   "execution_count": 13,
   "id": "8c34ea67",
   "metadata": {
    "execution": {
     "iopub.execute_input": "2021-10-09T11:45:19.433357Z",
     "iopub.status.busy": "2021-10-09T11:45:19.431136Z",
     "iopub.status.idle": "2021-10-09T11:45:19.438110Z",
     "shell.execute_reply": "2021-10-09T11:45:19.438565Z",
     "shell.execute_reply.started": "2021-10-09T11:34:48.084920Z"
    },
    "papermill": {
     "duration": 0.036393,
     "end_time": "2021-10-09T11:45:19.438757",
     "exception": false,
     "start_time": "2021-10-09T11:45:19.402364",
     "status": "completed"
    },
    "tags": []
   },
   "outputs": [
    {
     "data": {
      "text/plain": [
       "(15, 1)"
      ]
     },
     "execution_count": 13,
     "metadata": {},
     "output_type": "execute_result"
    }
   ],
   "source": [
    "X.shape"
   ]
  },
  {
   "cell_type": "code",
   "execution_count": 14,
   "id": "7c442ae3",
   "metadata": {
    "execution": {
     "iopub.execute_input": "2021-10-09T11:45:19.496604Z",
     "iopub.status.busy": "2021-10-09T11:45:19.495951Z",
     "iopub.status.idle": "2021-10-09T11:45:19.499204Z",
     "shell.execute_reply": "2021-10-09T11:45:19.498588Z",
     "shell.execute_reply.started": "2021-10-09T11:35:00.823791Z"
    },
    "papermill": {
     "duration": 0.034389,
     "end_time": "2021-10-09T11:45:19.499349",
     "exception": false,
     "start_time": "2021-10-09T11:45:19.464960",
     "status": "completed"
    },
    "tags": []
   },
   "outputs": [],
   "source": [
    "y = ds[\"Weight\"]"
   ]
  },
  {
   "cell_type": "code",
   "execution_count": 15,
   "id": "ea7847e8",
   "metadata": {
    "execution": {
     "iopub.execute_input": "2021-10-09T11:45:19.558183Z",
     "iopub.status.busy": "2021-10-09T11:45:19.557377Z",
     "iopub.status.idle": "2021-10-09T11:45:19.561099Z",
     "shell.execute_reply": "2021-10-09T11:45:19.560578Z",
     "shell.execute_reply.started": "2021-10-09T11:35:04.353834Z"
    },
    "papermill": {
     "duration": 0.035485,
     "end_time": "2021-10-09T11:45:19.561254",
     "exception": false,
     "start_time": "2021-10-09T11:45:19.525769",
     "status": "completed"
    },
    "tags": []
   },
   "outputs": [
    {
     "data": {
      "text/plain": [
       "(15,)"
      ]
     },
     "execution_count": 15,
     "metadata": {},
     "output_type": "execute_result"
    }
   ],
   "source": [
    "y.shape"
   ]
  },
  {
   "cell_type": "code",
   "execution_count": null,
   "id": "e703209a",
   "metadata": {
    "papermill": {
     "duration": 0.026146,
     "end_time": "2021-10-09T11:45:19.613976",
     "exception": false,
     "start_time": "2021-10-09T11:45:19.587830",
     "status": "completed"
    },
    "tags": []
   },
   "outputs": [],
   "source": []
  },
  {
   "cell_type": "code",
   "execution_count": 16,
   "id": "88fc4216",
   "metadata": {
    "execution": {
     "iopub.execute_input": "2021-10-09T11:45:19.683256Z",
     "iopub.status.busy": "2021-10-09T11:45:19.682557Z",
     "iopub.status.idle": "2021-10-09T11:45:20.737145Z",
     "shell.execute_reply": "2021-10-09T11:45:20.736495Z",
     "shell.execute_reply.started": "2021-10-09T11:35:53.814848Z"
    },
    "papermill": {
     "duration": 1.08813,
     "end_time": "2021-10-09T11:45:20.737299",
     "exception": false,
     "start_time": "2021-10-09T11:45:19.649169",
     "status": "completed"
    },
    "tags": []
   },
   "outputs": [],
   "source": [
    "from sklearn.linear_model import LinearRegression"
   ]
  },
  {
   "cell_type": "code",
   "execution_count": 17,
   "id": "efe6c6fb",
   "metadata": {
    "execution": {
     "iopub.execute_input": "2021-10-09T11:45:20.814964Z",
     "iopub.status.busy": "2021-10-09T11:45:20.814191Z",
     "iopub.status.idle": "2021-10-09T11:45:20.818266Z",
     "shell.execute_reply": "2021-10-09T11:45:20.819013Z",
     "shell.execute_reply.started": "2021-10-09T11:36:31.509241Z"
    },
    "papermill": {
     "duration": 0.047401,
     "end_time": "2021-10-09T11:45:20.819262",
     "exception": false,
     "start_time": "2021-10-09T11:45:20.771861",
     "status": "completed"
    },
    "tags": []
   },
   "outputs": [],
   "source": [
    "model = LinearRegression()"
   ]
  },
  {
   "cell_type": "code",
   "execution_count": 18,
   "id": "82bab94f",
   "metadata": {
    "execution": {
     "iopub.execute_input": "2021-10-09T11:45:20.882783Z",
     "iopub.status.busy": "2021-10-09T11:45:20.881715Z",
     "iopub.status.idle": "2021-10-09T11:45:20.885788Z",
     "shell.execute_reply": "2021-10-09T11:45:20.886456Z",
     "shell.execute_reply.started": "2021-10-09T11:36:57.774069Z"
    },
    "papermill": {
     "duration": 0.035474,
     "end_time": "2021-10-09T11:45:20.886639",
     "exception": false,
     "start_time": "2021-10-09T11:45:20.851165",
     "status": "completed"
    },
    "tags": []
   },
   "outputs": [],
   "source": [
    "from sklearn.model_selection import train_test_split"
   ]
  },
  {
   "cell_type": "code",
   "execution_count": 19,
   "id": "998051aa",
   "metadata": {
    "execution": {
     "iopub.execute_input": "2021-10-09T11:45:20.944633Z",
     "iopub.status.busy": "2021-10-09T11:45:20.943670Z",
     "iopub.status.idle": "2021-10-09T11:45:20.951897Z",
     "shell.execute_reply": "2021-10-09T11:45:20.951367Z",
     "shell.execute_reply.started": "2021-10-09T11:38:59.708844Z"
    },
    "papermill": {
     "duration": 0.038289,
     "end_time": "2021-10-09T11:45:20.952045",
     "exception": false,
     "start_time": "2021-10-09T11:45:20.913756",
     "status": "completed"
    },
    "tags": []
   },
   "outputs": [],
   "source": [
    "X_train, X_test, y_train, y_test = train_test_split(X, y, test_size = 0.2, random_state = 42)"
   ]
  },
  {
   "cell_type": "code",
   "execution_count": 20,
   "id": "bd64a5a6",
   "metadata": {
    "execution": {
     "iopub.execute_input": "2021-10-09T11:45:21.012025Z",
     "iopub.status.busy": "2021-10-09T11:45:21.011019Z",
     "iopub.status.idle": "2021-10-09T11:45:21.014179Z",
     "shell.execute_reply": "2021-10-09T11:45:21.014928Z",
     "shell.execute_reply.started": "2021-10-09T11:39:58.573774Z"
    },
    "papermill": {
     "duration": 0.035794,
     "end_time": "2021-10-09T11:45:21.015184",
     "exception": false,
     "start_time": "2021-10-09T11:45:20.979390",
     "status": "completed"
    },
    "tags": []
   },
   "outputs": [
    {
     "name": "stdout",
     "output_type": "stream",
     "text": [
      "(12, 1)\n",
      "(3, 1)\n",
      "(12,)\n",
      "(3,)\n"
     ]
    }
   ],
   "source": [
    "print(X_train.shape)\n",
    "print(X_test.shape)\n",
    "print(y_train.shape)\n",
    "print(y_test.shape)"
   ]
  },
  {
   "cell_type": "code",
   "execution_count": 21,
   "id": "389bb2f0",
   "metadata": {
    "execution": {
     "iopub.execute_input": "2021-10-09T11:45:21.088919Z",
     "iopub.status.busy": "2021-10-09T11:45:21.073280Z",
     "iopub.status.idle": "2021-10-09T11:45:21.095763Z",
     "shell.execute_reply": "2021-10-09T11:45:21.095093Z",
     "shell.execute_reply.started": "2021-10-09T11:40:20.013710Z"
    },
    "papermill": {
     "duration": 0.052112,
     "end_time": "2021-10-09T11:45:21.095932",
     "exception": false,
     "start_time": "2021-10-09T11:45:21.043820",
     "status": "completed"
    },
    "tags": []
   },
   "outputs": [
    {
     "data": {
      "text/plain": [
       "LinearRegression()"
      ]
     },
     "execution_count": 21,
     "metadata": {},
     "output_type": "execute_result"
    }
   ],
   "source": [
    "model.fit(X_train,y_train)"
   ]
  },
  {
   "cell_type": "code",
   "execution_count": 22,
   "id": "6a916b6d",
   "metadata": {
    "execution": {
     "iopub.execute_input": "2021-10-09T11:45:21.157954Z",
     "iopub.status.busy": "2021-10-09T11:45:21.156930Z",
     "iopub.status.idle": "2021-10-09T11:45:21.161442Z",
     "shell.execute_reply": "2021-10-09T11:45:21.160887Z",
     "shell.execute_reply.started": "2021-10-09T11:40:30.553615Z"
    },
    "papermill": {
     "duration": 0.038086,
     "end_time": "2021-10-09T11:45:21.161583",
     "exception": false,
     "start_time": "2021-10-09T11:45:21.123497",
     "status": "completed"
    },
    "tags": []
   },
   "outputs": [
    {
     "data": {
      "text/plain": [
       "array([63.13171913])"
      ]
     },
     "execution_count": 22,
     "metadata": {},
     "output_type": "execute_result"
    }
   ],
   "source": [
    "model.coef_"
   ]
  },
  {
   "cell_type": "code",
   "execution_count": 23,
   "id": "ee68b03d",
   "metadata": {
    "execution": {
     "iopub.execute_input": "2021-10-09T11:45:21.222959Z",
     "iopub.status.busy": "2021-10-09T11:45:21.222181Z",
     "iopub.status.idle": "2021-10-09T11:45:21.225496Z",
     "shell.execute_reply": "2021-10-09T11:45:21.224989Z",
     "shell.execute_reply.started": "2021-10-09T11:40:37.005197Z"
    },
    "papermill": {
     "duration": 0.036201,
     "end_time": "2021-10-09T11:45:21.225632",
     "exception": false,
     "start_time": "2021-10-09T11:45:21.189431",
     "status": "completed"
    },
    "tags": []
   },
   "outputs": [
    {
     "data": {
      "text/plain": [
       "-42.178608958837785"
      ]
     },
     "execution_count": 23,
     "metadata": {},
     "output_type": "execute_result"
    }
   ],
   "source": [
    "model.intercept_"
   ]
  },
  {
   "cell_type": "code",
   "execution_count": 24,
   "id": "eb87087d",
   "metadata": {
    "execution": {
     "iopub.execute_input": "2021-10-09T11:45:21.286916Z",
     "iopub.status.busy": "2021-10-09T11:45:21.286101Z",
     "iopub.status.idle": "2021-10-09T11:45:21.288663Z",
     "shell.execute_reply": "2021-10-09T11:45:21.289146Z",
     "shell.execute_reply.started": "2021-10-09T11:41:18.214913Z"
    },
    "papermill": {
     "duration": 0.035918,
     "end_time": "2021-10-09T11:45:21.289338",
     "exception": false,
     "start_time": "2021-10-09T11:45:21.253420",
     "status": "completed"
    },
    "tags": []
   },
   "outputs": [],
   "source": [
    "y_pred = model.predict(X_test)"
   ]
  },
  {
   "cell_type": "code",
   "execution_count": 25,
   "id": "20736e23",
   "metadata": {
    "execution": {
     "iopub.execute_input": "2021-10-09T11:45:21.352469Z",
     "iopub.status.busy": "2021-10-09T11:45:21.351837Z",
     "iopub.status.idle": "2021-10-09T11:45:21.355135Z",
     "shell.execute_reply": "2021-10-09T11:45:21.354485Z",
     "shell.execute_reply.started": "2021-10-09T11:41:22.435947Z"
    },
    "papermill": {
     "duration": 0.036895,
     "end_time": "2021-10-09T11:45:21.355288",
     "exception": false,
     "start_time": "2021-10-09T11:45:21.318393",
     "status": "completed"
    },
    "tags": []
   },
   "outputs": [
    {
     "data": {
      "text/plain": [
       "array([65.14531356, 68.30189952, 50.62501816])"
      ]
     },
     "execution_count": 25,
     "metadata": {},
     "output_type": "execute_result"
    }
   ],
   "source": [
    "y_pred"
   ]
  },
  {
   "cell_type": "code",
   "execution_count": 26,
   "id": "d0e1343f",
   "metadata": {
    "execution": {
     "iopub.execute_input": "2021-10-09T11:45:21.415926Z",
     "iopub.status.busy": "2021-10-09T11:45:21.414521Z",
     "iopub.status.idle": "2021-10-09T11:45:21.419124Z",
     "shell.execute_reply": "2021-10-09T11:45:21.418399Z",
     "shell.execute_reply.started": "2021-10-09T11:41:47.880775Z"
    },
    "papermill": {
     "duration": 0.035595,
     "end_time": "2021-10-09T11:45:21.419269",
     "exception": false,
     "start_time": "2021-10-09T11:45:21.383674",
     "status": "completed"
    },
    "tags": []
   },
   "outputs": [],
   "source": [
    "import matplotlib.pyplot as plt"
   ]
  },
  {
   "cell_type": "code",
   "execution_count": 27,
   "id": "7eded9d6",
   "metadata": {
    "execution": {
     "iopub.execute_input": "2021-10-09T11:45:21.497980Z",
     "iopub.status.busy": "2021-10-09T11:45:21.497262Z",
     "iopub.status.idle": "2021-10-09T11:45:21.716324Z",
     "shell.execute_reply": "2021-10-09T11:45:21.715717Z",
     "shell.execute_reply.started": "2021-10-09T11:43:34.597147Z"
    },
    "papermill": {
     "duration": 0.268042,
     "end_time": "2021-10-09T11:45:21.716470",
     "exception": false,
     "start_time": "2021-10-09T11:45:21.448428",
     "status": "completed"
    },
    "tags": []
   },
   "outputs": [
    {
     "data": {
      "text/plain": [
       "Text(0, 0.5, 'Weight')"
      ]
     },
     "execution_count": 27,
     "metadata": {},
     "output_type": "execute_result"
    },
    {
     "data": {
      "image/png": "[encoded data removed]",
      "text/plain": [
       "<Figure size 432x288 with 1 Axes>"
      ]
     },
     "metadata": {
      "needs_background": "light"
     },
     "output_type": "display_data"
    }
   ],
   "source": [
    "plt.scatter(X_test,y_test,color=\"red\")\n",
    "plt.plot(X_test,y_pred)\n",
    "plt.title(\"Height VS Weight\")\n",
    "plt.xlabel(\"Height\")\n",
    "plt.ylabel(\"Weight\")"
   ]
  },
  {
   "cell_type": "code",
   "execution_count": null,
   "id": "a52442ee",
   "metadata": {
    "papermill": {
     "duration": 0.030369,
     "end_time": "2021-10-09T11:45:21.776417",
     "exception": false,
     "start_time": "2021-10-09T11:45:21.746048",
     "status": "completed"
    },
    "tags": []
   },
   "outputs": [],
   "source": []
  }
 ],
 "metadata": {
  "kernelspec": {
   "display_name": "Python 3",
   "language": "python",
   "name": "python3"
  },
  "language_info": {
   "codemirror_mode": {
    "name": "ipython",
    "version": 3
   },
   "file_extension": ".py",
   "mimetype": "text/x-python",
   "name": "python",
   "nbconvert_exporter": "python",
   "pygments_lexer": "ipython3",
   "version": "3.7.10"
  },
  "papermill": {
   "default_parameters": {},
   "duration": 12.898884,
   "end_time": "2021-10-09T11:45:23.124422",
   "environment_variables": {},
   "exception": null,
   "input_path": "__notebook__.ipynb",
   "output_path": "__notebook__.ipynb",
   "parameters": {},
   "start_time": "2021-10-09T11:45:10.225538",
   "version": "2.3.3"
  }
 },
 "nbformat": 4,
 "nbformat_minor": 5
}
